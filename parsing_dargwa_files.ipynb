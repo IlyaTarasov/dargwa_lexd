{
 "cells": [
  {
   "cell_type": "code",
   "execution_count": 24,
   "id": "9fc10a67-592c-4202-8e1c-594a19b1e677",
   "metadata": {},
   "outputs": [],
   "source": [
    "import json\n",
    "import os\n",
    "import re\n",
    " \n",
    "for number in range (1,6):\n",
    "    directory = os.listdir('/Users/iltar/Desktop/dargwa_texts_' + str(number))\n",
    "    os.chdir('/Users/iltar/Desktop/dargwa_texts_' + str(number))\n",
    "           \n",
    "    for file in directory:\n",
    "        with open(file, 'r', encoding='utf-8') as f:\n",
    "            text = json.load(f)\n",
    "            for sent in text['sentences']:\n",
    "                # удаляем знаки препинания\n",
    "                sent_without_punc = re.sub(r'[^\\w\\s]', '', sent['text'])\n",
    "                # приводим к нижнему регистру\n",
    "                words = [w.lower() for w in sent_without_punc.split() if w.isalpha()]\n",
    "                # в данных файлах много английского, который никак не аккомодирован, было бы неправильно расценивать его как токены даргинского\n",
    "                to_delete = []\n",
    "                for word in words:\n",
    "                    if word[0] in english:\n",
    "                        to_delete.append(word)\n",
    "                for word in to_delete:\n",
    "                    words.remove(word)\n",
    "                with open('C:\\\\Users\\iltar\\Desktop\\standard_dargwa_corpus_' + str(number) + '.txt', 'a', encoding='utf-8') as f2:\n",
    "                    f2.write(' '.join(words))\n",
    "                    f2.write('\\n')\n",
    "            "
   ]
  },
  {
   "cell_type": "code",
   "execution_count": 12,
   "id": "816b8898-015a-437c-b2ea-a1c9a825fc84",
   "metadata": {},
   "outputs": [],
   "source": [
    "english = ['a', 'b', 'c', 'd', 'e', 'f', 'g', 'h', 'i', 'j', 'k', 'l', 'm', 'n', 'o', 'p', 'q', 'r', 's', 't', 'u', 'v', 'w', 'x', 'y', 'z']"
   ]
  },
  {
   "cell_type": "code",
   "execution_count": 29,
   "id": "2e40e5f9-e87a-41c1-b84c-df20a659ecb8",
   "metadata": {},
   "outputs": [],
   "source": [
    "with open('C:\\\\Users\\iltar\\Desktop\\magomedova.txt', 'r', encoding='utf-8') as f:\n",
    "    text = f.readlines()\n",
    "    for line in text:\n",
    "        line_without_punc = re.sub(r'[^\\w\\s]', '', line)\n",
    "        words = [w.lower() for w in line_without_punc.split() if w.isalpha()]\n",
    "        with open('C:\\\\Users\\iltar\\Desktop\\magomedova_clean.txt', 'a', encoding='utf-8') as f2:\n",
    "                f2.write(' '.join(words))\n",
    "                f2.write('\\n')"
   ]
  },
  {
   "cell_type": "code",
   "execution_count": 28,
   "id": "224a7c14-e81e-4afa-ba89-23b2aba9ad78",
   "metadata": {},
   "outputs": [],
   "source": [
    "with open('C:\\\\Users\\iltar\\Desktop\\Сельская_жизнь.txt', 'r', encoding='utf-8') as f:\n",
    "    text = f.readlines()\n",
    "    for line in text:\n",
    "        line_without_punc = re.sub(r'[^\\w\\s]', '', line)\n",
    "        words = [w.lower() for w in line_without_punc.split() if w.isalpha()]\n",
    "        with open('C:\\\\Users\\iltar\\Desktop\\Сельская_жизнь_clean.txt', 'a', encoding='utf-8') as f2:\n",
    "                f2.write(' '.join(words))\n",
    "                f2.write('\\n')"
   ]
  }
 ],
 "metadata": {
  "kernelspec": {
   "display_name": "Python 3 (ipykernel)",
   "language": "python",
   "name": "python3"
  },
  "language_info": {
   "codemirror_mode": {
    "name": "ipython",
    "version": 3
   },
   "file_extension": ".py",
   "mimetype": "text/x-python",
   "name": "python",
   "nbconvert_exporter": "python",
   "pygments_lexer": "ipython3",
   "version": "3.8.18"
  }
 },
 "nbformat": 4,
 "nbformat_minor": 5
}
